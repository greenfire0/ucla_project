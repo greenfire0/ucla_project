{
  "nbformat": 4,
  "nbformat_minor": 0,
  "metadata": {
    "colab": {
      "name": "CSV_Converter.ipynb",
      "provenance": [],
      "authorship_tag": "ABX9TyNTbSbSM70nqDs+EBvy70xB",
      "include_colab_link": true
    },
    "kernelspec": {
      "name": "python3",
      "display_name": "Python 3"
    },
    "language_info": {
      "name": "python"
    }
  },
  "cells": [
    {
      "cell_type": "markdown",
      "metadata": {
        "id": "view-in-github",
        "colab_type": "text"
      },
      "source": [
        "<a href=\"https://colab.research.google.com/github/greenfire0/ucla_project/blob/master/ucla_project/project/PythonApplication1/CSV_Converter.ipynbCSV_Converter.ipynb\" target=\"_parent\"><img src=\"https://colab.research.google.com/assets/colab-badge.svg\" alt=\"Open In Colab\"/></a>"
      ]
    },
    {
      "cell_type": "code",
      "metadata": {
        "id": "olSmiswGBg6L"
      },
      "source": [
        "import json\n",
        "import pandas as pd\n",
        "\n",
        "from pandas.io.json import json_normalize\n",
        "#upload your file to google colab\n",
        "#change the name out.json to file you want to convert\n",
        "with open('out.json') as json_data:\n",
        "    data = json.load(json_data)\n",
        "\n",
        "df = pd.DataFrame(data['games'])\n",
        "#change here too,just a name you want after it is converted\n",
        "df.to_csv (r'out.csv', index = None)\n",
        "\n",
        "#it takes a while to be converted, then it will appear in the menu"
      ],
      "execution_count": 7,
      "outputs": []
    }
  ]
}