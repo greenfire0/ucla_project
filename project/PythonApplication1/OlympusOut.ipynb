{
  "nbformat": 4,
  "nbformat_minor": 0,
  "metadata": {
    "colab": {
      "name": "OlympusOut.ipynb",
      "provenance": []
    },
    "kernelspec": {
      "name": "python3",
      "display_name": "Python 3"
    },
    "language_info": {
      "name": "python"
    }
  },
  "cells": [
    {
      "cell_type": "code",
      "metadata": {
        "id": "iNlWo0fGXTEa"
      },
      "source": [
        "import requests\n",
        "import json\n",
        "import pandas as pd\n",
        "file1= pd.read_csv(\"out.csv\")\n",
        "ind=0\n",
        "for i in file1[:][\"url\"]:\n",
        "  r = requests.get(i)\n",
        "  data = (r.text) \n",
        "  res = json.loads(str(data))\n",
        "\n",
        "  if res[\"route\"][\"map\"] != \"olympus.s8\":\n",
        "    file1=file1.drop([ind],axis=0)\n",
        "    \n",
        "  ind+=1\n",
        "  \n",
        "\n",
        "\n",
        "file1.to_csv(r'newOut.csv', index = None) "
      ],
      "execution_count": 29,
      "outputs": []
    },
    {
      "cell_type": "code",
      "metadata": {
        "colab": {
          "base_uri": "https://localhost:8080/"
        },
        "id": "HSWN49QmHEvT",
        "outputId": "420d36c7-12f0-49b7-e8e7-2a0f4e9c1326"
      },
      "source": [
        "file1.info"
      ],
      "execution_count": 33,
      "outputs": [
        {
          "output_type": "execute_result",
          "data": {
            "text/plain": [
              "<bound method DataFrame.info of        champion  ...                                            weapons\n",
              "0    bloodhound  ...  [{'knockdowns': 2, 'name': 'Spitfire', 'time_h...\n",
              "1    bloodhound  ...  [{'knockdowns': 0, 'name': 'R-301', 'time_held...\n",
              "4          loba  ...  [{'knockdowns': 3, 'name': 'Flatline', 'time_h...\n",
              "5          loba  ...  [{'knockdowns': 1, 'name': 'Alternator', 'time...\n",
              "6          loba  ...  [{'knockdowns': 0, 'name': 'Flatline', 'time_h...\n",
              "..          ...  ...                                                ...\n",
              "184   gibraltar  ...  [{'knockdowns': 1, 'name': 'Peacekeeper', 'tim...\n",
              "185   gibraltar  ...  [{'knockdowns': 0, 'name': 'Alternator', 'time...\n",
              "186   gibraltar  ...  [{'knockdowns': 6, 'name': 'R-301', 'time_held...\n",
              "187   gibraltar  ...  [{'knockdowns': 1, 'name': 'Havoc', 'time_held...\n",
              "188   gibraltar  ...  [{'knockdowns': 1, 'name': 'Hemlock', 'time_he...\n",
              "\n",
              "[146 rows x 23 columns]>"
            ]
          },
          "metadata": {
            "tags": []
          },
          "execution_count": 33
        }
      ]
    },
    {
      "cell_type": "code",
      "metadata": {
        "id": "7vSOL6yAXt9P"
      },
      "source": [
        "\n",
        "\n",
        "file2= pd.read_csv(\"newOut.csv\")\n",
        "\n",
        "\n",
        "f = open('location.csv', \"w+\")\n",
        "f.close()\n",
        "\n",
        "df = pd.DataFrame()\n",
        "\n",
        "spacer = pd.DataFrame()\n",
        "\n",
        "for i in file2[:][\"url\"]:\n",
        "  r = requests.get(i)\n",
        "  data = (r.text) \n",
        "  res = json.loads(str(data))\n",
        "  df2 = pd.DataFrame((res[\"route\"][\"locations\"]))\n",
        "  print(df2)\n",
        "  frames = [df, df2]\n",
        "  df = pd.concat(frames)\n",
        "print(\"****\")\n",
        "df.to_csv (r'location.csv', index = None)    "
      ],
      "execution_count": null,
      "outputs": []
    }
  ]
}