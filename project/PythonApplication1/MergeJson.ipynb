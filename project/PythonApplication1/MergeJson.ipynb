{
  "nbformat": 4,
  "nbformat_minor": 0,
  "metadata": {
    "colab": {
      "name": "Untitled0.ipynb",
      "provenance": []
    },
    "kernelspec": {
      "name": "python3",
      "display_name": "Python 3"
    },
    "language_info": {
      "name": "python"
    }
  },
  "cells": [
    {
      "cell_type": "code",
      "metadata": {
        "id": "ERn4kOpjx8g7"
      },
      "source": [
        "import json\n",
        "import glob\n",
        "\n",
        "li=[\"art3yy.json\",\"brahaney.json\"]\n",
        "for i in li:\n",
        "  read_files = glob.glob(i)\n",
        "  output_list = []\n",
        "\n",
        "  for f in read_files:\n",
        "    with open(f, \"r\") as infile:\n",
        "        output_list.append(json.load(infile))\n",
        "\n",
        "  with open(\"merged_file.json\", \"w\") as outfile:\n",
        "    json.dump(output_list, outfile)\n"
      ],
      "execution_count": 43,
      "outputs": []
    }
  ]
}